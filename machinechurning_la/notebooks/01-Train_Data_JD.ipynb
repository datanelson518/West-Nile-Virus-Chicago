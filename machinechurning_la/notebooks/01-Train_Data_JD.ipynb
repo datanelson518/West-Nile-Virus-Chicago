{
 "cells": [
  {
   "cell_type": "code",
   "execution_count": 1,
   "metadata": {},
   "outputs": [],
   "source": [
    "import pandas as pd\n",
    "import numpy as np\n",
    "import pickle\n",
    "\n",
    "import matplotlib.pyplot as plt\n",
    "import seaborn as sns\n",
    "sns.set(style=\"whitegrid\")\n",
    "\n",
    "import warnings\n",
    "warnings.filterwarnings('ignore')\n",
    "\n",
    "%matplotlib inline"
   ]
  },
  {
   "cell_type": "markdown",
   "metadata": {},
   "source": [
    "#### Read CSV"
   ]
  },
  {
   "cell_type": "code",
   "execution_count": 2,
   "metadata": {
    "scrolled": true
   },
   "outputs": [
    {
     "data": {
      "text/html": [
       "<div>\n",
       "<style scoped>\n",
       "    .dataframe tbody tr th:only-of-type {\n",
       "        vertical-align: middle;\n",
       "    }\n",
       "\n",
       "    .dataframe tbody tr th {\n",
       "        vertical-align: top;\n",
       "    }\n",
       "\n",
       "    .dataframe thead th {\n",
       "        text-align: right;\n",
       "    }\n",
       "</style>\n",
       "<table border=\"1\" class=\"dataframe\">\n",
       "  <thead>\n",
       "    <tr style=\"text-align: right;\">\n",
       "      <th></th>\n",
       "      <th>Date</th>\n",
       "      <th>Address</th>\n",
       "      <th>Species</th>\n",
       "      <th>Block</th>\n",
       "      <th>Street</th>\n",
       "      <th>Trap</th>\n",
       "      <th>AddressNumberAndStreet</th>\n",
       "      <th>Latitude</th>\n",
       "      <th>Longitude</th>\n",
       "      <th>AddressAccuracy</th>\n",
       "      <th>NumMosquitos</th>\n",
       "      <th>WnvPresent</th>\n",
       "    </tr>\n",
       "  </thead>\n",
       "  <tbody>\n",
       "    <tr>\n",
       "      <th>0</th>\n",
       "      <td>2007-05-29</td>\n",
       "      <td>4100 North Oak Park Avenue, Chicago, IL 60634,...</td>\n",
       "      <td>CULEX PIPIENS/RESTUANS</td>\n",
       "      <td>41</td>\n",
       "      <td>N OAK PARK AVE</td>\n",
       "      <td>T002</td>\n",
       "      <td>4100  N OAK PARK AVE, Chicago, IL</td>\n",
       "      <td>41.954690</td>\n",
       "      <td>-87.800991</td>\n",
       "      <td>9</td>\n",
       "      <td>1</td>\n",
       "      <td>0</td>\n",
       "    </tr>\n",
       "    <tr>\n",
       "      <th>1</th>\n",
       "      <td>2007-05-29</td>\n",
       "      <td>4100 North Oak Park Avenue, Chicago, IL 60634,...</td>\n",
       "      <td>CULEX RESTUANS</td>\n",
       "      <td>41</td>\n",
       "      <td>N OAK PARK AVE</td>\n",
       "      <td>T002</td>\n",
       "      <td>4100  N OAK PARK AVE, Chicago, IL</td>\n",
       "      <td>41.954690</td>\n",
       "      <td>-87.800991</td>\n",
       "      <td>9</td>\n",
       "      <td>1</td>\n",
       "      <td>0</td>\n",
       "    </tr>\n",
       "    <tr>\n",
       "      <th>2</th>\n",
       "      <td>2007-05-29</td>\n",
       "      <td>6200 North Mandell Avenue, Chicago, IL 60646, USA</td>\n",
       "      <td>CULEX RESTUANS</td>\n",
       "      <td>62</td>\n",
       "      <td>N MANDELL AVE</td>\n",
       "      <td>T007</td>\n",
       "      <td>6200  N MANDELL AVE, Chicago, IL</td>\n",
       "      <td>41.994991</td>\n",
       "      <td>-87.769279</td>\n",
       "      <td>9</td>\n",
       "      <td>1</td>\n",
       "      <td>0</td>\n",
       "    </tr>\n",
       "    <tr>\n",
       "      <th>3</th>\n",
       "      <td>2007-05-29</td>\n",
       "      <td>7900 West Foster Avenue, Chicago, IL 60656, USA</td>\n",
       "      <td>CULEX PIPIENS/RESTUANS</td>\n",
       "      <td>79</td>\n",
       "      <td>W FOSTER AVE</td>\n",
       "      <td>T015</td>\n",
       "      <td>7900  W FOSTER AVE, Chicago, IL</td>\n",
       "      <td>41.974089</td>\n",
       "      <td>-87.824812</td>\n",
       "      <td>8</td>\n",
       "      <td>1</td>\n",
       "      <td>0</td>\n",
       "    </tr>\n",
       "    <tr>\n",
       "      <th>4</th>\n",
       "      <td>2007-05-29</td>\n",
       "      <td>7900 West Foster Avenue, Chicago, IL 60656, USA</td>\n",
       "      <td>CULEX RESTUANS</td>\n",
       "      <td>79</td>\n",
       "      <td>W FOSTER AVE</td>\n",
       "      <td>T015</td>\n",
       "      <td>7900  W FOSTER AVE, Chicago, IL</td>\n",
       "      <td>41.974089</td>\n",
       "      <td>-87.824812</td>\n",
       "      <td>8</td>\n",
       "      <td>4</td>\n",
       "      <td>0</td>\n",
       "    </tr>\n",
       "  </tbody>\n",
       "</table>\n",
       "</div>"
      ],
      "text/plain": [
       "         Date                                            Address  \\\n",
       "0  2007-05-29  4100 North Oak Park Avenue, Chicago, IL 60634,...   \n",
       "1  2007-05-29  4100 North Oak Park Avenue, Chicago, IL 60634,...   \n",
       "2  2007-05-29  6200 North Mandell Avenue, Chicago, IL 60646, USA   \n",
       "3  2007-05-29    7900 West Foster Avenue, Chicago, IL 60656, USA   \n",
       "4  2007-05-29    7900 West Foster Avenue, Chicago, IL 60656, USA   \n",
       "\n",
       "                  Species  Block           Street  Trap  \\\n",
       "0  CULEX PIPIENS/RESTUANS     41   N OAK PARK AVE  T002   \n",
       "1          CULEX RESTUANS     41   N OAK PARK AVE  T002   \n",
       "2          CULEX RESTUANS     62    N MANDELL AVE  T007   \n",
       "3  CULEX PIPIENS/RESTUANS     79     W FOSTER AVE  T015   \n",
       "4          CULEX RESTUANS     79     W FOSTER AVE  T015   \n",
       "\n",
       "              AddressNumberAndStreet   Latitude  Longitude  AddressAccuracy  \\\n",
       "0  4100  N OAK PARK AVE, Chicago, IL  41.954690 -87.800991                9   \n",
       "1  4100  N OAK PARK AVE, Chicago, IL  41.954690 -87.800991                9   \n",
       "2   6200  N MANDELL AVE, Chicago, IL  41.994991 -87.769279                9   \n",
       "3    7900  W FOSTER AVE, Chicago, IL  41.974089 -87.824812                8   \n",
       "4    7900  W FOSTER AVE, Chicago, IL  41.974089 -87.824812                8   \n",
       "\n",
       "   NumMosquitos  WnvPresent  \n",
       "0             1           0  \n",
       "1             1           0  \n",
       "2             1           0  \n",
       "3             1           0  \n",
       "4             4           0  "
      ]
     },
     "execution_count": 2,
     "metadata": {},
     "output_type": "execute_result"
    }
   ],
   "source": [
    "df = pd.read_csv('../data/train.csv')\n",
    "df.head()"
   ]
  },
  {
   "cell_type": "code",
   "execution_count": 3,
   "metadata": {},
   "outputs": [
    {
     "data": {
      "text/plain": [
       "(10506, 12)"
      ]
     },
     "execution_count": 3,
     "metadata": {},
     "output_type": "execute_result"
    }
   ],
   "source": [
    "df.shape"
   ]
  },
  {
   "cell_type": "code",
   "execution_count": 4,
   "metadata": {},
   "outputs": [
    {
     "data": {
      "text/plain": [
       "Date                      0\n",
       "Address                   0\n",
       "Species                   0\n",
       "Block                     0\n",
       "Street                    0\n",
       "Trap                      0\n",
       "AddressNumberAndStreet    0\n",
       "Latitude                  0\n",
       "Longitude                 0\n",
       "AddressAccuracy           0\n",
       "NumMosquitos              0\n",
       "WnvPresent                0\n",
       "dtype: int64"
      ]
     },
     "execution_count": 4,
     "metadata": {},
     "output_type": "execute_result"
    }
   ],
   "source": [
    "df.isnull().sum()"
   ]
  },
  {
   "cell_type": "code",
   "execution_count": 5,
   "metadata": {},
   "outputs": [
    {
     "name": "stdout",
     "output_type": "stream",
     "text": [
      "<class 'pandas.core.frame.DataFrame'>\n",
      "RangeIndex: 10506 entries, 0 to 10505\n",
      "Data columns (total 12 columns):\n",
      "Date                      10506 non-null object\n",
      "Address                   10506 non-null object\n",
      "Species                   10506 non-null object\n",
      "Block                     10506 non-null int64\n",
      "Street                    10506 non-null object\n",
      "Trap                      10506 non-null object\n",
      "AddressNumberAndStreet    10506 non-null object\n",
      "Latitude                  10506 non-null float64\n",
      "Longitude                 10506 non-null float64\n",
      "AddressAccuracy           10506 non-null int64\n",
      "NumMosquitos              10506 non-null int64\n",
      "WnvPresent                10506 non-null int64\n",
      "dtypes: float64(2), int64(4), object(6)\n",
      "memory usage: 985.0+ KB\n"
     ]
    }
   ],
   "source": [
    "df.info()"
   ]
  },
  {
   "cell_type": "code",
   "execution_count": 6,
   "metadata": {},
   "outputs": [
    {
     "data": {
      "text/plain": [
       "Date                       object\n",
       "Address                    object\n",
       "Species                    object\n",
       "Block                       int64\n",
       "Street                     object\n",
       "Trap                       object\n",
       "AddressNumberAndStreet     object\n",
       "Latitude                  float64\n",
       "Longitude                 float64\n",
       "AddressAccuracy             int64\n",
       "NumMosquitos                int64\n",
       "WnvPresent                  int64\n",
       "dtype: object"
      ]
     },
     "execution_count": 6,
     "metadata": {},
     "output_type": "execute_result"
    }
   ],
   "source": [
    "df.dtypes"
   ]
  },
  {
   "cell_type": "markdown",
   "metadata": {},
   "source": [
    "## Feature Engineering"
   ]
  },
  {
   "cell_type": "markdown",
   "metadata": {},
   "source": [
    "#### Replace Erraticus, Salinarius, Tarsalis, Territans with Other"
   ]
  },
  {
   "cell_type": "code",
   "execution_count": 7,
   "metadata": {},
   "outputs": [],
   "source": [
    "df['Species'] = df['Species'].map({'CULEX PIPIENS/RESTUANS': 'CULEX PIPIENS/RESTUANS',\n",
    "                   'CULEX RESTUANS': 'CULEX RESTUANS',\n",
    "                   'CULEX PIPIENS': 'CULEX PIPIENS',\n",
    "                   'CULEX TERRITANS': 'CULEX OTHER', \n",
    "                   'CULEX SALINARIUS': 'CULEX OTHER',\n",
    "                   'CULEX TARSALIS': 'CULEX OTHER',\n",
    "                   'CULEX ERRATICUS': 'CULEX OTHER'})"
   ]
  },
  {
   "cell_type": "markdown",
   "metadata": {},
   "source": [
    "#### Percentage of Species with West Nile"
   ]
  },
  {
   "cell_type": "code",
   "execution_count": 8,
   "metadata": {},
   "outputs": [
    {
     "data": {
      "text/html": [
       "<div>\n",
       "<style scoped>\n",
       "    .dataframe tbody tr th:only-of-type {\n",
       "        vertical-align: middle;\n",
       "    }\n",
       "\n",
       "    .dataframe tbody tr th {\n",
       "        vertical-align: top;\n",
       "    }\n",
       "\n",
       "    .dataframe thead th {\n",
       "        text-align: right;\n",
       "    }\n",
       "</style>\n",
       "<table border=\"1\" class=\"dataframe\">\n",
       "  <thead>\n",
       "    <tr style=\"text-align: right;\">\n",
       "      <th></th>\n",
       "      <th>WnvPresent</th>\n",
       "    </tr>\n",
       "    <tr>\n",
       "      <th>Species</th>\n",
       "      <th></th>\n",
       "    </tr>\n",
       "  </thead>\n",
       "  <tbody>\n",
       "    <tr>\n",
       "      <th>CULEX OTHER</th>\n",
       "      <td>0.000000</td>\n",
       "    </tr>\n",
       "    <tr>\n",
       "      <th>CULEX PIPIENS</th>\n",
       "      <td>0.088922</td>\n",
       "    </tr>\n",
       "    <tr>\n",
       "      <th>CULEX PIPIENS/RESTUANS</th>\n",
       "      <td>0.055135</td>\n",
       "    </tr>\n",
       "    <tr>\n",
       "      <th>CULEX RESTUANS</th>\n",
       "      <td>0.017883</td>\n",
       "    </tr>\n",
       "  </tbody>\n",
       "</table>\n",
       "</div>"
      ],
      "text/plain": [
       "                        WnvPresent\n",
       "Species                           \n",
       "CULEX OTHER               0.000000\n",
       "CULEX PIPIENS             0.088922\n",
       "CULEX PIPIENS/RESTUANS    0.055135\n",
       "CULEX RESTUANS            0.017883"
      ]
     },
     "execution_count": 8,
     "metadata": {},
     "output_type": "execute_result"
    }
   ],
   "source": [
    "df.groupby('Species')[['WnvPresent']].sum() / df.groupby('Species')[['WnvPresent']].count()"
   ]
  },
  {
   "cell_type": "markdown",
   "metadata": {},
   "source": [
    "#### Traps with West Nile Percentage, Latitude and Longitude"
   ]
  },
  {
   "cell_type": "code",
   "execution_count": 9,
   "metadata": {
    "scrolled": true
   },
   "outputs": [
    {
     "data": {
      "text/html": [
       "<div>\n",
       "<style scoped>\n",
       "    .dataframe tbody tr th:only-of-type {\n",
       "        vertical-align: middle;\n",
       "    }\n",
       "\n",
       "    .dataframe tbody tr th {\n",
       "        vertical-align: top;\n",
       "    }\n",
       "\n",
       "    .dataframe thead th {\n",
       "        text-align: right;\n",
       "    }\n",
       "</style>\n",
       "<table border=\"1\" class=\"dataframe\">\n",
       "  <thead>\n",
       "    <tr style=\"text-align: right;\">\n",
       "      <th></th>\n",
       "      <th>WnvPresent</th>\n",
       "      <th>Latitude</th>\n",
       "      <th>Longitude</th>\n",
       "    </tr>\n",
       "    <tr>\n",
       "      <th>Trap</th>\n",
       "      <th></th>\n",
       "      <th></th>\n",
       "      <th></th>\n",
       "    </tr>\n",
       "  </thead>\n",
       "  <tbody>\n",
       "    <tr>\n",
       "      <th>T001</th>\n",
       "      <td>0.000000</td>\n",
       "      <td>41.953705</td>\n",
       "      <td>-87.733974</td>\n",
       "    </tr>\n",
       "    <tr>\n",
       "      <th>T002</th>\n",
       "      <td>0.097297</td>\n",
       "      <td>41.954690</td>\n",
       "      <td>-87.800991</td>\n",
       "    </tr>\n",
       "    <tr>\n",
       "      <th>T003</th>\n",
       "      <td>0.114754</td>\n",
       "      <td>41.964242</td>\n",
       "      <td>-87.757639</td>\n",
       "    </tr>\n",
       "    <tr>\n",
       "      <th>T004</th>\n",
       "      <td>0.000000</td>\n",
       "      <td>41.962728</td>\n",
       "      <td>-87.748367</td>\n",
       "    </tr>\n",
       "    <tr>\n",
       "      <th>T005</th>\n",
       "      <td>0.142857</td>\n",
       "      <td>41.942114</td>\n",
       "      <td>-87.776385</td>\n",
       "    </tr>\n",
       "    <tr>\n",
       "      <th>T006</th>\n",
       "      <td>0.166667</td>\n",
       "      <td>41.990284</td>\n",
       "      <td>-87.797127</td>\n",
       "    </tr>\n",
       "    <tr>\n",
       "      <th>T007</th>\n",
       "      <td>0.000000</td>\n",
       "      <td>41.994991</td>\n",
       "      <td>-87.769279</td>\n",
       "    </tr>\n",
       "    <tr>\n",
       "      <th>T008</th>\n",
       "      <td>0.071942</td>\n",
       "      <td>42.008314</td>\n",
       "      <td>-87.777921</td>\n",
       "    </tr>\n",
       "    <tr>\n",
       "      <th>T009</th>\n",
       "      <td>0.081081</td>\n",
       "      <td>41.989542</td>\n",
       "      <td>-87.848984</td>\n",
       "    </tr>\n",
       "    <tr>\n",
       "      <th>T011</th>\n",
       "      <td>0.082707</td>\n",
       "      <td>41.944869</td>\n",
       "      <td>-87.832763</td>\n",
       "    </tr>\n",
       "    <tr>\n",
       "      <th>T012</th>\n",
       "      <td>0.038095</td>\n",
       "      <td>41.991429</td>\n",
       "      <td>-87.747113</td>\n",
       "    </tr>\n",
       "    <tr>\n",
       "      <th>T013</th>\n",
       "      <td>0.096154</td>\n",
       "      <td>41.923738</td>\n",
       "      <td>-87.785288</td>\n",
       "    </tr>\n",
       "    <tr>\n",
       "      <th>T014</th>\n",
       "      <td>0.133333</td>\n",
       "      <td>41.970248</td>\n",
       "      <td>-87.787992</td>\n",
       "    </tr>\n",
       "    <tr>\n",
       "      <th>T015</th>\n",
       "      <td>0.114286</td>\n",
       "      <td>41.974089</td>\n",
       "      <td>-87.824812</td>\n",
       "    </tr>\n",
       "    <tr>\n",
       "      <th>T016</th>\n",
       "      <td>0.106061</td>\n",
       "      <td>42.011601</td>\n",
       "      <td>-87.811506</td>\n",
       "    </tr>\n",
       "    <tr>\n",
       "      <th>T017</th>\n",
       "      <td>0.000000</td>\n",
       "      <td>41.960616</td>\n",
       "      <td>-87.777189</td>\n",
       "    </tr>\n",
       "    <tr>\n",
       "      <th>T018</th>\n",
       "      <td>0.000000</td>\n",
       "      <td>42.010412</td>\n",
       "      <td>-87.662140</td>\n",
       "    </tr>\n",
       "    <tr>\n",
       "      <th>T019</th>\n",
       "      <td>0.000000</td>\n",
       "      <td>41.949830</td>\n",
       "      <td>-87.698457</td>\n",
       "    </tr>\n",
       "    <tr>\n",
       "      <th>T025</th>\n",
       "      <td>0.000000</td>\n",
       "      <td>41.979243</td>\n",
       "      <td>-87.750938</td>\n",
       "    </tr>\n",
       "    <tr>\n",
       "      <th>T027</th>\n",
       "      <td>0.075269</td>\n",
       "      <td>41.984809</td>\n",
       "      <td>-87.728492</td>\n",
       "    </tr>\n",
       "    <tr>\n",
       "      <th>T028</th>\n",
       "      <td>0.076923</td>\n",
       "      <td>41.986921</td>\n",
       "      <td>-87.689778</td>\n",
       "    </tr>\n",
       "    <tr>\n",
       "      <th>T030</th>\n",
       "      <td>0.063492</td>\n",
       "      <td>41.899230</td>\n",
       "      <td>-87.716788</td>\n",
       "    </tr>\n",
       "    <tr>\n",
       "      <th>T031</th>\n",
       "      <td>0.034247</td>\n",
       "      <td>41.801498</td>\n",
       "      <td>-87.763416</td>\n",
       "    </tr>\n",
       "    <tr>\n",
       "      <th>T033</th>\n",
       "      <td>0.051546</td>\n",
       "      <td>41.906638</td>\n",
       "      <td>-87.701431</td>\n",
       "    </tr>\n",
       "    <tr>\n",
       "      <th>T034</th>\n",
       "      <td>0.000000</td>\n",
       "      <td>41.843811</td>\n",
       "      <td>-87.686763</td>\n",
       "    </tr>\n",
       "    <tr>\n",
       "      <th>T035</th>\n",
       "      <td>0.041667</td>\n",
       "      <td>41.791075</td>\n",
       "      <td>-87.718090</td>\n",
       "    </tr>\n",
       "    <tr>\n",
       "      <th>T036</th>\n",
       "      <td>0.041667</td>\n",
       "      <td>41.837085</td>\n",
       "      <td>-87.729384</td>\n",
       "    </tr>\n",
       "    <tr>\n",
       "      <th>T037</th>\n",
       "      <td>0.034483</td>\n",
       "      <td>41.921177</td>\n",
       "      <td>-87.795180</td>\n",
       "    </tr>\n",
       "    <tr>\n",
       "      <th>T039</th>\n",
       "      <td>0.050000</td>\n",
       "      <td>41.911824</td>\n",
       "      <td>-87.726737</td>\n",
       "    </tr>\n",
       "    <tr>\n",
       "      <th>T040</th>\n",
       "      <td>0.000000</td>\n",
       "      <td>41.852652</td>\n",
       "      <td>-87.719887</td>\n",
       "    </tr>\n",
       "    <tr>\n",
       "      <th>...</th>\n",
       "      <td>...</td>\n",
       "      <td>...</td>\n",
       "      <td>...</td>\n",
       "    </tr>\n",
       "    <tr>\n",
       "      <th>T160</th>\n",
       "      <td>0.043956</td>\n",
       "      <td>41.903002</td>\n",
       "      <td>-87.688267</td>\n",
       "    </tr>\n",
       "    <tr>\n",
       "      <th>T161</th>\n",
       "      <td>0.000000</td>\n",
       "      <td>41.719059</td>\n",
       "      <td>-87.675088</td>\n",
       "    </tr>\n",
       "    <tr>\n",
       "      <th>T162</th>\n",
       "      <td>0.047619</td>\n",
       "      <td>41.725517</td>\n",
       "      <td>-87.614258</td>\n",
       "    </tr>\n",
       "    <tr>\n",
       "      <th>T200</th>\n",
       "      <td>0.007752</td>\n",
       "      <td>41.678618</td>\n",
       "      <td>-87.559308</td>\n",
       "    </tr>\n",
       "    <tr>\n",
       "      <th>T206</th>\n",
       "      <td>0.000000</td>\n",
       "      <td>41.737052</td>\n",
       "      <td>-87.543067</td>\n",
       "    </tr>\n",
       "    <tr>\n",
       "      <th>T209</th>\n",
       "      <td>0.023077</td>\n",
       "      <td>41.740641</td>\n",
       "      <td>-87.546587</td>\n",
       "    </tr>\n",
       "    <tr>\n",
       "      <th>T212</th>\n",
       "      <td>0.019737</td>\n",
       "      <td>41.680946</td>\n",
       "      <td>-87.535198</td>\n",
       "    </tr>\n",
       "    <tr>\n",
       "      <th>T215</th>\n",
       "      <td>0.066667</td>\n",
       "      <td>41.686398</td>\n",
       "      <td>-87.531635</td>\n",
       "    </tr>\n",
       "    <tr>\n",
       "      <th>T218</th>\n",
       "      <td>0.027027</td>\n",
       "      <td>41.948167</td>\n",
       "      <td>-87.730698</td>\n",
       "    </tr>\n",
       "    <tr>\n",
       "      <th>T219</th>\n",
       "      <td>0.000000</td>\n",
       "      <td>41.966987</td>\n",
       "      <td>-87.674677</td>\n",
       "    </tr>\n",
       "    <tr>\n",
       "      <th>T220</th>\n",
       "      <td>0.040816</td>\n",
       "      <td>41.963976</td>\n",
       "      <td>-87.691810</td>\n",
       "    </tr>\n",
       "    <tr>\n",
       "      <th>T221</th>\n",
       "      <td>0.080357</td>\n",
       "      <td>41.659112</td>\n",
       "      <td>-87.538693</td>\n",
       "    </tr>\n",
       "    <tr>\n",
       "      <th>T222</th>\n",
       "      <td>0.016667</td>\n",
       "      <td>41.925198</td>\n",
       "      <td>-87.746381</td>\n",
       "    </tr>\n",
       "    <tr>\n",
       "      <th>T223</th>\n",
       "      <td>0.103448</td>\n",
       "      <td>41.973845</td>\n",
       "      <td>-87.805059</td>\n",
       "    </tr>\n",
       "    <tr>\n",
       "      <th>T224</th>\n",
       "      <td>0.018519</td>\n",
       "      <td>41.947227</td>\n",
       "      <td>-87.671457</td>\n",
       "    </tr>\n",
       "    <tr>\n",
       "      <th>T225</th>\n",
       "      <td>0.106796</td>\n",
       "      <td>41.743402</td>\n",
       "      <td>-87.731435</td>\n",
       "    </tr>\n",
       "    <tr>\n",
       "      <th>T226</th>\n",
       "      <td>0.051948</td>\n",
       "      <td>41.793818</td>\n",
       "      <td>-87.654234</td>\n",
       "    </tr>\n",
       "    <tr>\n",
       "      <th>T227</th>\n",
       "      <td>0.051282</td>\n",
       "      <td>41.728495</td>\n",
       "      <td>-87.600963</td>\n",
       "    </tr>\n",
       "    <tr>\n",
       "      <th>T228</th>\n",
       "      <td>0.096774</td>\n",
       "      <td>41.951866</td>\n",
       "      <td>-87.725057</td>\n",
       "    </tr>\n",
       "    <tr>\n",
       "      <th>T229</th>\n",
       "      <td>0.000000</td>\n",
       "      <td>41.753411</td>\n",
       "      <td>-87.639817</td>\n",
       "    </tr>\n",
       "    <tr>\n",
       "      <th>T230</th>\n",
       "      <td>0.107692</td>\n",
       "      <td>41.904194</td>\n",
       "      <td>-87.756155</td>\n",
       "    </tr>\n",
       "    <tr>\n",
       "      <th>T231</th>\n",
       "      <td>0.095238</td>\n",
       "      <td>41.987280</td>\n",
       "      <td>-87.666066</td>\n",
       "    </tr>\n",
       "    <tr>\n",
       "      <th>T232</th>\n",
       "      <td>0.040000</td>\n",
       "      <td>41.912563</td>\n",
       "      <td>-87.668055</td>\n",
       "    </tr>\n",
       "    <tr>\n",
       "      <th>T233</th>\n",
       "      <td>0.140000</td>\n",
       "      <td>42.009876</td>\n",
       "      <td>-87.807277</td>\n",
       "    </tr>\n",
       "    <tr>\n",
       "      <th>T235</th>\n",
       "      <td>0.112903</td>\n",
       "      <td>41.776428</td>\n",
       "      <td>-87.627096</td>\n",
       "    </tr>\n",
       "    <tr>\n",
       "      <th>T236</th>\n",
       "      <td>0.030303</td>\n",
       "      <td>41.994679</td>\n",
       "      <td>-87.770899</td>\n",
       "    </tr>\n",
       "    <tr>\n",
       "      <th>T237</th>\n",
       "      <td>0.000000</td>\n",
       "      <td>41.738903</td>\n",
       "      <td>-87.695443</td>\n",
       "    </tr>\n",
       "    <tr>\n",
       "      <th>T238</th>\n",
       "      <td>0.000000</td>\n",
       "      <td>41.753391</td>\n",
       "      <td>-87.707394</td>\n",
       "    </tr>\n",
       "    <tr>\n",
       "      <th>T900</th>\n",
       "      <td>0.088000</td>\n",
       "      <td>41.974689</td>\n",
       "      <td>-87.890615</td>\n",
       "    </tr>\n",
       "    <tr>\n",
       "      <th>T903</th>\n",
       "      <td>0.071429</td>\n",
       "      <td>41.957799</td>\n",
       "      <td>-87.930995</td>\n",
       "    </tr>\n",
       "  </tbody>\n",
       "</table>\n",
       "<p>136 rows × 3 columns</p>\n",
       "</div>"
      ],
      "text/plain": [
       "      WnvPresent   Latitude  Longitude\n",
       "Trap                                  \n",
       "T001    0.000000  41.953705 -87.733974\n",
       "T002    0.097297  41.954690 -87.800991\n",
       "T003    0.114754  41.964242 -87.757639\n",
       "T004    0.000000  41.962728 -87.748367\n",
       "T005    0.142857  41.942114 -87.776385\n",
       "T006    0.166667  41.990284 -87.797127\n",
       "T007    0.000000  41.994991 -87.769279\n",
       "T008    0.071942  42.008314 -87.777921\n",
       "T009    0.081081  41.989542 -87.848984\n",
       "T011    0.082707  41.944869 -87.832763\n",
       "T012    0.038095  41.991429 -87.747113\n",
       "T013    0.096154  41.923738 -87.785288\n",
       "T014    0.133333  41.970248 -87.787992\n",
       "T015    0.114286  41.974089 -87.824812\n",
       "T016    0.106061  42.011601 -87.811506\n",
       "T017    0.000000  41.960616 -87.777189\n",
       "T018    0.000000  42.010412 -87.662140\n",
       "T019    0.000000  41.949830 -87.698457\n",
       "T025    0.000000  41.979243 -87.750938\n",
       "T027    0.075269  41.984809 -87.728492\n",
       "T028    0.076923  41.986921 -87.689778\n",
       "T030    0.063492  41.899230 -87.716788\n",
       "T031    0.034247  41.801498 -87.763416\n",
       "T033    0.051546  41.906638 -87.701431\n",
       "T034    0.000000  41.843811 -87.686763\n",
       "T035    0.041667  41.791075 -87.718090\n",
       "T036    0.041667  41.837085 -87.729384\n",
       "T037    0.034483  41.921177 -87.795180\n",
       "T039    0.050000  41.911824 -87.726737\n",
       "T040    0.000000  41.852652 -87.719887\n",
       "...          ...        ...        ...\n",
       "T160    0.043956  41.903002 -87.688267\n",
       "T161    0.000000  41.719059 -87.675088\n",
       "T162    0.047619  41.725517 -87.614258\n",
       "T200    0.007752  41.678618 -87.559308\n",
       "T206    0.000000  41.737052 -87.543067\n",
       "T209    0.023077  41.740641 -87.546587\n",
       "T212    0.019737  41.680946 -87.535198\n",
       "T215    0.066667  41.686398 -87.531635\n",
       "T218    0.027027  41.948167 -87.730698\n",
       "T219    0.000000  41.966987 -87.674677\n",
       "T220    0.040816  41.963976 -87.691810\n",
       "T221    0.080357  41.659112 -87.538693\n",
       "T222    0.016667  41.925198 -87.746381\n",
       "T223    0.103448  41.973845 -87.805059\n",
       "T224    0.018519  41.947227 -87.671457\n",
       "T225    0.106796  41.743402 -87.731435\n",
       "T226    0.051948  41.793818 -87.654234\n",
       "T227    0.051282  41.728495 -87.600963\n",
       "T228    0.096774  41.951866 -87.725057\n",
       "T229    0.000000  41.753411 -87.639817\n",
       "T230    0.107692  41.904194 -87.756155\n",
       "T231    0.095238  41.987280 -87.666066\n",
       "T232    0.040000  41.912563 -87.668055\n",
       "T233    0.140000  42.009876 -87.807277\n",
       "T235    0.112903  41.776428 -87.627096\n",
       "T236    0.030303  41.994679 -87.770899\n",
       "T237    0.000000  41.738903 -87.695443\n",
       "T238    0.000000  41.753391 -87.707394\n",
       "T900    0.088000  41.974689 -87.890615\n",
       "T903    0.071429  41.957799 -87.930995\n",
       "\n",
       "[136 rows x 3 columns]"
      ]
     },
     "execution_count": 9,
     "metadata": {},
     "output_type": "execute_result"
    }
   ],
   "source": [
    "df.groupby('Trap')[['WnvPresent', 'Latitude', 'Longitude']].sum() / df.groupby('Trap')[['WnvPresent', 'Latitude', 'Longitude']].count()"
   ]
  },
  {
   "cell_type": "markdown",
   "metadata": {},
   "source": [
    "#### Convert Date Column to datetime Format"
   ]
  },
  {
   "cell_type": "code",
   "execution_count": 10,
   "metadata": {
    "scrolled": false
   },
   "outputs": [],
   "source": [
    "df['Date'] = pd.to_datetime(df['Date'], format='%Y-%m-%d')\n",
    "df.set_index('Date', inplace=True)"
   ]
  },
  {
   "cell_type": "code",
   "execution_count": 11,
   "metadata": {
    "scrolled": true
   },
   "outputs": [
    {
     "data": {
      "text/html": [
       "<div>\n",
       "<style scoped>\n",
       "    .dataframe tbody tr th:only-of-type {\n",
       "        vertical-align: middle;\n",
       "    }\n",
       "\n",
       "    .dataframe tbody tr th {\n",
       "        vertical-align: top;\n",
       "    }\n",
       "\n",
       "    .dataframe thead th {\n",
       "        text-align: right;\n",
       "    }\n",
       "</style>\n",
       "<table border=\"1\" class=\"dataframe\">\n",
       "  <thead>\n",
       "    <tr style=\"text-align: right;\">\n",
       "      <th></th>\n",
       "      <th>Address</th>\n",
       "      <th>Species</th>\n",
       "      <th>Block</th>\n",
       "      <th>Street</th>\n",
       "      <th>Trap</th>\n",
       "      <th>AddressNumberAndStreet</th>\n",
       "      <th>Latitude</th>\n",
       "      <th>Longitude</th>\n",
       "      <th>AddressAccuracy</th>\n",
       "      <th>NumMosquitos</th>\n",
       "      <th>WnvPresent</th>\n",
       "    </tr>\n",
       "    <tr>\n",
       "      <th>Date</th>\n",
       "      <th></th>\n",
       "      <th></th>\n",
       "      <th></th>\n",
       "      <th></th>\n",
       "      <th></th>\n",
       "      <th></th>\n",
       "      <th></th>\n",
       "      <th></th>\n",
       "      <th></th>\n",
       "      <th></th>\n",
       "      <th></th>\n",
       "    </tr>\n",
       "  </thead>\n",
       "  <tbody>\n",
       "    <tr>\n",
       "      <th>2007-05-29</th>\n",
       "      <td>4100 North Oak Park Avenue, Chicago, IL 60634,...</td>\n",
       "      <td>CULEX PIPIENS/RESTUANS</td>\n",
       "      <td>41</td>\n",
       "      <td>N OAK PARK AVE</td>\n",
       "      <td>T002</td>\n",
       "      <td>4100  N OAK PARK AVE, Chicago, IL</td>\n",
       "      <td>41.954690</td>\n",
       "      <td>-87.800991</td>\n",
       "      <td>9</td>\n",
       "      <td>1</td>\n",
       "      <td>0</td>\n",
       "    </tr>\n",
       "    <tr>\n",
       "      <th>2007-05-29</th>\n",
       "      <td>4100 North Oak Park Avenue, Chicago, IL 60634,...</td>\n",
       "      <td>CULEX RESTUANS</td>\n",
       "      <td>41</td>\n",
       "      <td>N OAK PARK AVE</td>\n",
       "      <td>T002</td>\n",
       "      <td>4100  N OAK PARK AVE, Chicago, IL</td>\n",
       "      <td>41.954690</td>\n",
       "      <td>-87.800991</td>\n",
       "      <td>9</td>\n",
       "      <td>1</td>\n",
       "      <td>0</td>\n",
       "    </tr>\n",
       "    <tr>\n",
       "      <th>2007-05-29</th>\n",
       "      <td>6200 North Mandell Avenue, Chicago, IL 60646, USA</td>\n",
       "      <td>CULEX RESTUANS</td>\n",
       "      <td>62</td>\n",
       "      <td>N MANDELL AVE</td>\n",
       "      <td>T007</td>\n",
       "      <td>6200  N MANDELL AVE, Chicago, IL</td>\n",
       "      <td>41.994991</td>\n",
       "      <td>-87.769279</td>\n",
       "      <td>9</td>\n",
       "      <td>1</td>\n",
       "      <td>0</td>\n",
       "    </tr>\n",
       "    <tr>\n",
       "      <th>2007-05-29</th>\n",
       "      <td>7900 West Foster Avenue, Chicago, IL 60656, USA</td>\n",
       "      <td>CULEX PIPIENS/RESTUANS</td>\n",
       "      <td>79</td>\n",
       "      <td>W FOSTER AVE</td>\n",
       "      <td>T015</td>\n",
       "      <td>7900  W FOSTER AVE, Chicago, IL</td>\n",
       "      <td>41.974089</td>\n",
       "      <td>-87.824812</td>\n",
       "      <td>8</td>\n",
       "      <td>1</td>\n",
       "      <td>0</td>\n",
       "    </tr>\n",
       "    <tr>\n",
       "      <th>2007-05-29</th>\n",
       "      <td>7900 West Foster Avenue, Chicago, IL 60656, USA</td>\n",
       "      <td>CULEX RESTUANS</td>\n",
       "      <td>79</td>\n",
       "      <td>W FOSTER AVE</td>\n",
       "      <td>T015</td>\n",
       "      <td>7900  W FOSTER AVE, Chicago, IL</td>\n",
       "      <td>41.974089</td>\n",
       "      <td>-87.824812</td>\n",
       "      <td>8</td>\n",
       "      <td>4</td>\n",
       "      <td>0</td>\n",
       "    </tr>\n",
       "  </tbody>\n",
       "</table>\n",
       "</div>"
      ],
      "text/plain": [
       "                                                      Address  \\\n",
       "Date                                                            \n",
       "2007-05-29  4100 North Oak Park Avenue, Chicago, IL 60634,...   \n",
       "2007-05-29  4100 North Oak Park Avenue, Chicago, IL 60634,...   \n",
       "2007-05-29  6200 North Mandell Avenue, Chicago, IL 60646, USA   \n",
       "2007-05-29    7900 West Foster Avenue, Chicago, IL 60656, USA   \n",
       "2007-05-29    7900 West Foster Avenue, Chicago, IL 60656, USA   \n",
       "\n",
       "                           Species  Block           Street  Trap  \\\n",
       "Date                                                               \n",
       "2007-05-29  CULEX PIPIENS/RESTUANS     41   N OAK PARK AVE  T002   \n",
       "2007-05-29          CULEX RESTUANS     41   N OAK PARK AVE  T002   \n",
       "2007-05-29          CULEX RESTUANS     62    N MANDELL AVE  T007   \n",
       "2007-05-29  CULEX PIPIENS/RESTUANS     79     W FOSTER AVE  T015   \n",
       "2007-05-29          CULEX RESTUANS     79     W FOSTER AVE  T015   \n",
       "\n",
       "                       AddressNumberAndStreet   Latitude  Longitude  \\\n",
       "Date                                                                  \n",
       "2007-05-29  4100  N OAK PARK AVE, Chicago, IL  41.954690 -87.800991   \n",
       "2007-05-29  4100  N OAK PARK AVE, Chicago, IL  41.954690 -87.800991   \n",
       "2007-05-29   6200  N MANDELL AVE, Chicago, IL  41.994991 -87.769279   \n",
       "2007-05-29    7900  W FOSTER AVE, Chicago, IL  41.974089 -87.824812   \n",
       "2007-05-29    7900  W FOSTER AVE, Chicago, IL  41.974089 -87.824812   \n",
       "\n",
       "            AddressAccuracy  NumMosquitos  WnvPresent  \n",
       "Date                                                   \n",
       "2007-05-29                9             1           0  \n",
       "2007-05-29                9             1           0  \n",
       "2007-05-29                9             1           0  \n",
       "2007-05-29                8             1           0  \n",
       "2007-05-29                8             4           0  "
      ]
     },
     "execution_count": 11,
     "metadata": {},
     "output_type": "execute_result"
    }
   ],
   "source": [
    "df.head()"
   ]
  },
  {
   "cell_type": "markdown",
   "metadata": {},
   "source": [
    "#### Make New Column for Year, Month, Day"
   ]
  },
  {
   "cell_type": "code",
   "execution_count": 12,
   "metadata": {},
   "outputs": [],
   "source": [
    "df['Year'] = df.index.year"
   ]
  },
  {
   "cell_type": "code",
   "execution_count": 13,
   "metadata": {},
   "outputs": [],
   "source": [
    "df['Month'] = df.index.month"
   ]
  },
  {
   "cell_type": "code",
   "execution_count": 14,
   "metadata": {},
   "outputs": [],
   "source": [
    "df['Day'] = df.index.day"
   ]
  },
  {
   "cell_type": "code",
   "execution_count": 15,
   "metadata": {
    "scrolled": true
   },
   "outputs": [
    {
     "data": {
      "text/plain": [
       "2007    3811\n",
       "2013    2392\n",
       "2009    2249\n",
       "2011    2054\n",
       "Name: Year, dtype: int64"
      ]
     },
     "execution_count": 15,
     "metadata": {},
     "output_type": "execute_result"
    }
   ],
   "source": [
    "df['Year'].value_counts().sort_values(ascending=False)"
   ]
  },
  {
   "cell_type": "code",
   "execution_count": 16,
   "metadata": {
    "scrolled": true
   },
   "outputs": [
    {
     "data": {
      "text/plain": [
       "8     3751\n",
       "7     2606\n",
       "9     2218\n",
       "6     1571\n",
       "10     276\n",
       "5       84\n",
       "Name: Month, dtype: int64"
      ]
     },
     "execution_count": 16,
     "metadata": {},
     "output_type": "execute_result"
    }
   ],
   "source": [
    "df['Month'].value_counts().sort_values(ascending=False)"
   ]
  },
  {
   "cell_type": "code",
   "execution_count": 17,
   "metadata": {},
   "outputs": [
    {
     "data": {
      "text/plain": [
       "1     864\n",
       "12    815\n",
       "19    674\n",
       "25    656\n",
       "15    642\n",
       "Name: Day, dtype: int64"
      ]
     },
     "execution_count": 17,
     "metadata": {},
     "output_type": "execute_result"
    }
   ],
   "source": [
    "df['Day'].value_counts().sort_values(ascending=False)[:5]"
   ]
  },
  {
   "cell_type": "markdown",
   "metadata": {},
   "source": [
    "## Exploring Data"
   ]
  },
  {
   "cell_type": "markdown",
   "metadata": {},
   "source": [
    "#### Value Count of Species"
   ]
  },
  {
   "cell_type": "code",
   "execution_count": 18,
   "metadata": {},
   "outputs": [
    {
     "data": {
      "text/plain": [
       "CULEX PIPIENS/RESTUANS    4752\n",
       "CULEX RESTUANS            2740\n",
       "CULEX PIPIENS             2699\n",
       "CULEX OTHER                315\n",
       "Name: Species, dtype: int64"
      ]
     },
     "execution_count": 18,
     "metadata": {},
     "output_type": "execute_result"
    }
   ],
   "source": [
    "df['Species'].value_counts()"
   ]
  },
  {
   "cell_type": "markdown",
   "metadata": {},
   "source": [
    "#### Count of Species Captured"
   ]
  },
  {
   "cell_type": "code",
   "execution_count": 19,
   "metadata": {},
   "outputs": [],
   "source": [
    "species_count = pd.DataFrame(df.groupby('Species')['NumMosquitos'].sum().sort_values(ascending = False) )\n",
    "species_count.reset_index(inplace=True)"
   ]
  },
  {
   "cell_type": "code",
   "execution_count": 20,
   "metadata": {},
   "outputs": [
    {
     "data": {
      "text/html": [
       "<div>\n",
       "<style scoped>\n",
       "    .dataframe tbody tr th:only-of-type {\n",
       "        vertical-align: middle;\n",
       "    }\n",
       "\n",
       "    .dataframe tbody tr th {\n",
       "        vertical-align: top;\n",
       "    }\n",
       "\n",
       "    .dataframe thead th {\n",
       "        text-align: right;\n",
       "    }\n",
       "</style>\n",
       "<table border=\"1\" class=\"dataframe\">\n",
       "  <thead>\n",
       "    <tr style=\"text-align: right;\">\n",
       "      <th></th>\n",
       "      <th>Species</th>\n",
       "      <th>NumMosquitos</th>\n",
       "    </tr>\n",
       "  </thead>\n",
       "  <tbody>\n",
       "    <tr>\n",
       "      <th>0</th>\n",
       "      <td>CULEX PIPIENS/RESTUANS</td>\n",
       "      <td>66268</td>\n",
       "    </tr>\n",
       "    <tr>\n",
       "      <th>1</th>\n",
       "      <td>CULEX PIPIENS</td>\n",
       "      <td>44671</td>\n",
       "    </tr>\n",
       "    <tr>\n",
       "      <th>2</th>\n",
       "      <td>CULEX RESTUANS</td>\n",
       "      <td>23431</td>\n",
       "    </tr>\n",
       "    <tr>\n",
       "      <th>3</th>\n",
       "      <td>CULEX OTHER</td>\n",
       "      <td>669</td>\n",
       "    </tr>\n",
       "  </tbody>\n",
       "</table>\n",
       "</div>"
      ],
      "text/plain": [
       "                  Species  NumMosquitos\n",
       "0  CULEX PIPIENS/RESTUANS         66268\n",
       "1           CULEX PIPIENS         44671\n",
       "2          CULEX RESTUANS         23431\n",
       "3             CULEX OTHER           669"
      ]
     },
     "execution_count": 20,
     "metadata": {},
     "output_type": "execute_result"
    }
   ],
   "source": [
    "species_count"
   ]
  },
  {
   "cell_type": "code",
   "execution_count": 21,
   "metadata": {},
   "outputs": [
    {
     "data": {
      "image/png": "[encoded data removed]",
      "text/plain": [
       "<Figure size 1440x720 with 1 Axes>"
      ]
     },
     "metadata": {},
     "output_type": "display_data"
    }
   ],
   "source": [
    "fig, ax = plt.subplots(figsize = (20,10))\n",
    "ax = sns.barplot(y='Species', x='NumMosquitos', data=species_count, orient = 'h', color='b')\n",
    "ax.set_xlabel('Number of Mosquitos', fontsize = 18)\n",
    "ax.set_ylabel('Species', fontsize=18)\n",
    "ax.set_title('Count of Species Captured', fontsize=20);\n",
    "\n",
    "plt.savefig('species.png', bbox_inches='tight')"
   ]
  },
  {
   "cell_type": "markdown",
   "metadata": {},
   "source": [
    "#### Timeline of When Mosquitos Are Caught"
   ]
  },
  {
   "cell_type": "code",
   "execution_count": 22,
   "metadata": {},
   "outputs": [
    {
     "data": {
      "text/plain": [
       "Month\n",
       "8     377\n",
       "9     125\n",
       "7      46\n",
       "10      2\n",
       "6       1\n",
       "5       0\n",
       "Name: WnvPresent, dtype: int64"
      ]
     },
     "execution_count": 22,
     "metadata": {},
     "output_type": "execute_result"
    }
   ],
   "source": [
    "df.groupby('Month')['WnvPresent'].sum().sort_values(ascending=False)"
   ]
  },
  {
   "cell_type": "code",
   "execution_count": 23,
   "metadata": {
    "scrolled": true
   },
   "outputs": [
    {
     "data": {
      "image/png": "[encoded data removed]",
      "text/plain": [
       "<Figure size 1440x720 with 1 Axes>"
      ]
     },
     "metadata": {},
     "output_type": "display_data"
    }
   ],
   "source": [
    "fig, ax = plt.subplots(figsize = (20,10))\n",
    "\n",
    "plt.plot(df.groupby('Month')['WnvPresent'].sum())\n",
    "ax.set_title('Mosquito Timeline', fontsize=20)\n",
    "ax.set_xlabel('Month', fontsize=18)\n",
    "ax.set_ylabel('Mosquitos Caught Per Month', fontsize=18);\n",
    "\n",
    "plt.savefig('mosquito_timeline1', bbox_inches='tight')"
   ]
  },
  {
   "cell_type": "code",
   "execution_count": 24,
   "metadata": {},
   "outputs": [
    {
     "data": {
      "image/png": "[encoded data removed]",
      "text/plain": [
       "<Figure size 1440x720 with 1 Axes>"
      ]
     },
     "metadata": {},
     "output_type": "display_data"
    }
   ],
   "source": [
    "fig, ax = plt.subplots(figsize = (20,10))\n",
    "\n",
    "plt.plot(df.groupby('Year')['WnvPresent'].sum())\n",
    "ax.set_title('Mosquito Timeline', fontsize=20)\n",
    "ax.set_xlabel('Year', fontsize=18)\n",
    "ax.set_ylabel('Mosquitos Caught Per Year', fontsize=18);\n",
    "\n",
    "plt.savefig('mosquito_timeline2', bbox_inches='tight')"
   ]
  },
  {
   "cell_type": "markdown",
   "metadata": {},
   "source": [
    "#### Mosquitos Caught Per Block"
   ]
  },
  {
   "cell_type": "code",
   "execution_count": 25,
   "metadata": {},
   "outputs": [],
   "source": [
    "block_df = pd.DataFrame(data = df.groupby('Block')['WnvPresent'].sum(), columns=['WnvPresent'])\n",
    "block_df.reset_index(inplace=True)"
   ]
  },
  {
   "cell_type": "code",
   "execution_count": 26,
   "metadata": {},
   "outputs": [
    {
     "data": {
      "image/png": "[encoded data removed]",
      "text/plain": [
       "<Figure size 1440x720 with 1 Axes>"
      ]
     },
     "metadata": {},
     "output_type": "display_data"
    }
   ],
   "source": [
    "fig, ax = plt.subplots(figsize = (20,10))\n",
    "\n",
    "sns.barplot(y = block_df['Block'], x = block_df['WnvPresent'], orient='h', color='blue')\n",
    "ax.set_title('Mosquitos Caught Per Block', fontsize=20)\n",
    "ax.set_xlabel('Mosquitos Caught Per Block', fontsize=18)\n",
    "ax.set_ylabel('Block', fontsize=18);\n",
    "\n",
    "plt.savefig('mosquito_block', bbox_inches='tight')"
   ]
  },
  {
   "cell_type": "markdown",
   "metadata": {},
   "source": [
    "#### WnvPresent Class Distribution"
   ]
  },
  {
   "cell_type": "code",
   "execution_count": 27,
   "metadata": {
    "scrolled": true
   },
   "outputs": [
    {
     "data": {
      "text/plain": [
       "0    9955\n",
       "1     551\n",
       "Name: WnvPresent, dtype: int64"
      ]
     },
     "execution_count": 27,
     "metadata": {},
     "output_type": "execute_result"
    }
   ],
   "source": [
    "df['WnvPresent'].value_counts()"
   ]
  },
  {
   "cell_type": "code",
   "execution_count": 28,
   "metadata": {},
   "outputs": [
    {
     "data": {
      "text/plain": [
       "<matplotlib.axes._subplots.AxesSubplot at 0x1a1c1ae080>"
      ]
     },
     "execution_count": 28,
     "metadata": {},
     "output_type": "execute_result"
    },
    {
     "data": {
      "image/png": "[encoded data removed]",
      "text/plain": [
       "<Figure size 432x288 with 1 Axes>"
      ]
     },
     "metadata": {},
     "output_type": "display_data"
    }
   ],
   "source": [
    "sns.countplot(x = df['Month'], hue = df['WnvPresent'])"
   ]
  },
  {
   "cell_type": "code",
   "execution_count": 29,
   "metadata": {},
   "outputs": [
    {
     "data": {
      "image/png": "[encoded data removed]",
      "text/plain": [
       "<Figure size 432x288 with 1 Axes>"
      ]
     },
     "metadata": {},
     "output_type": "display_data"
    }
   ],
   "source": [
    "ax = sns.countplot(x = df['Species'], hue = df['WnvPresent'])\n",
    "ax.set_xticklabels(df['Species'], rotation=90);"
   ]
  },
  {
   "cell_type": "markdown",
   "metadata": {},
   "source": [
    "#### Export Cleaned DF"
   ]
  },
  {
   "cell_type": "code",
   "execution_count": 30,
   "metadata": {},
   "outputs": [],
   "source": [
    "df.to_csv('../data/clean_train_df.csv')"
   ]
  }
 ],
 "metadata": {
  "kernelspec": {
   "display_name": "Python 3",
   "language": "python",
   "name": "python3"
  },
  "language_info": {
   "codemirror_mode": {
    "name": "ipython",
    "version": 3
   },
   "file_extension": ".py",
   "mimetype": "text/x-python",
   "name": "python",
   "nbconvert_exporter": "python",
   "pygments_lexer": "ipython3",
   "version": "3.6.5"
  }
 },
 "nbformat": 4,
 "nbformat_minor": 2
}
