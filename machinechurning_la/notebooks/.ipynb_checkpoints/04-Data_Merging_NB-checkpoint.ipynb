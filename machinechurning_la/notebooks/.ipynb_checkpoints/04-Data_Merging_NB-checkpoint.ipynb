{
 "cells": [
  {
   "cell_type": "markdown",
   "metadata": {},
   "source": [
    "## Data Merging"
   ]
  },
  {
   "cell_type": "markdown",
   "metadata": {},
   "source": [
    "### Import modules"
   ]
  },
  {
   "cell_type": "code",
   "execution_count": 134,
   "metadata": {},
   "outputs": [],
   "source": [
    "import pandas as pd\n",
    "import numpy as np\n",
    "import matplotlib.pyplot as plt\n",
    "import seaborn as sns\n",
    "\n",
    "from statsmodels.tsa.stattools import acf, pacf\n",
    "from statsmodels.graphics.tsaplots import plot_acf, plot_pacf\n",
    "\n",
    "from scipy.stats import pearsonr\n",
    "\n",
    "%matplotlib inline"
   ]
  },
  {
   "cell_type": "markdown",
   "metadata": {},
   "source": [
    "### Import data"
   ]
  },
  {
   "cell_type": "markdown",
   "metadata": {},
   "source": [
    "Let's import the training data and weather data. We want to merge these two as these two datasets contain the relevant features for our model."
   ]
  },
  {
   "cell_type": "code",
   "execution_count": 135,
   "metadata": {},
   "outputs": [],
   "source": [
    "train = pd.read_csv('../data/clean_train_df.csv')\n",
    "weather = pd.read_csv('../data/clean_weather_df_NP.csv')"
   ]
  },
  {
   "cell_type": "markdown",
   "metadata": {},
   "source": [
    "Let's look at the columns of each dataframe as they are our feature set."
   ]
  },
  {
   "cell_type": "code",
   "execution_count": 136,
   "metadata": {},
   "outputs": [
    {
     "data": {
      "text/plain": [
       "(Index(['Date', 'Address', 'Species', 'Block', 'Street', 'Trap',\n",
       "        'AddressNumberAndStreet', 'Latitude', 'Longitude', 'AddressAccuracy',\n",
       "        'NumMosquitos', 'WnvPresent', 'Year', 'Month', 'Day'],\n",
       "       dtype='object'),\n",
       " Index(['Date', 'Station', 'Tmax', 'Tmin', 'Tavg', 'DewPoint', 'WetBulb',\n",
       "        'Heat', 'Cool', 'Sunrise', 'Sunset', 'CodeSum', 'SnowFall',\n",
       "        'PrecipTotal', 'StnPressure', 'SeaLevel', 'ResultSpeed', 'ResultDir',\n",
       "        'AvgSpeed', 'FG', 'FG+', 'VCTS', 'SN', 'RA', 'TS', 'FU', 'DZ', 'GR',\n",
       "        'TSRA', 'SQ', 'MIFG', 'BCFG', 'BR', 'VCFG', 'HZ'],\n",
       "       dtype='object'))"
      ]
     },
     "execution_count": 136,
     "metadata": {},
     "output_type": "execute_result"
    }
   ],
   "source": [
    "train.columns,  weather.columns"
   ]
  },
  {
   "cell_type": "markdown",
   "metadata": {},
   "source": [
    "#### Clean up"
   ]
  },
  {
   "cell_type": "markdown",
   "metadata": {},
   "source": [
    "Let's just make all the column names lowercase."
   ]
  },
  {
   "cell_type": "code",
   "execution_count": 137,
   "metadata": {},
   "outputs": [],
   "source": [
    "train.columns = train.columns.map(lambda x: x.lower())\n",
    "weather.columns = weather.columns.map(lambda x: x.lower())"
   ]
  },
  {
   "cell_type": "markdown",
   "metadata": {},
   "source": [
    "Let's also make our date columns DateTime columns:"
   ]
  },
  {
   "cell_type": "code",
   "execution_count": 138,
   "metadata": {},
   "outputs": [],
   "source": [
    "train['date'] = pd.to_datetime(train['date'])"
   ]
  },
  {
   "cell_type": "code",
   "execution_count": 139,
   "metadata": {},
   "outputs": [],
   "source": [
    "weather['date'] = pd.to_datetime(weather['date'])"
   ]
  },
  {
   "cell_type": "markdown",
   "metadata": {},
   "source": [
    "Let's also add some lagged temperature data to our weather data:"
   ]
  },
  {
   "cell_type": "code",
   "execution_count": 140,
   "metadata": {},
   "outputs": [],
   "source": [
    "weather['tavg_7'] = weather[['tavg']].rolling(7).mean()\n",
    "weather['tavg_30'] = weather[['tavg']].rolling(30).mean()\n",
    "\n",
    "weather['tavg_7'].fillna(weather['tavg'], inplace=True)\n",
    "weather['tavg_30'].fillna(weather['tavg'], inplace=True)"
   ]
  },
  {
   "cell_type": "markdown",
   "metadata": {},
   "source": [
    "#### What about Spray?"
   ]
  },
  {
   "cell_type": "markdown",
   "metadata": {},
   "source": [
    "We do not want the spray dataset in our merged data as it doesn't have very many relevant features. Let's take a look:"
   ]
  },
  {
   "cell_type": "code",
   "execution_count": 141,
   "metadata": {},
   "outputs": [],
   "source": [
    "spray = pd.read_csv('../data/cleaned_spray.csv')"
   ]
  },
  {
   "cell_type": "code",
   "execution_count": 142,
   "metadata": {},
   "outputs": [
    {
     "data": {
      "text/plain": [
       "Index(['date', 'time', 'latitude', 'longitude'], dtype='object')"
      ]
     },
     "execution_count": 142,
     "metadata": {},
     "output_type": "execute_result"
    }
   ],
   "source": [
    "spray.columns"
   ]
  },
  {
   "cell_type": "code",
   "execution_count": 143,
   "metadata": {},
   "outputs": [
    {
     "data": {
      "text/plain": [
       "array(['2011-08-29', '2011-09-07', '2013-07-17', '2013-07-25',\n",
       "       '2013-08-08', '2013-08-15', '2013-08-16', '2013-08-22',\n",
       "       '2013-08-29', '2013-09-05'], dtype=object)"
      ]
     },
     "execution_count": 143,
     "metadata": {},
     "output_type": "execute_result"
    }
   ],
   "source": [
    "spray.date.unique()"
   ]
  },
  {
   "cell_type": "markdown",
   "metadata": {},
   "source": [
    "We will not use the spray data as a feature in our merged data because there are only 10 different days in which spraying happened. Also, our test data does not contain any of the dates represented by the spraying data.\n",
    "\n",
    "What we might use spraying data for is check how much mosquito counts decreases in the two week period after a spray, in order to perform a cost-benefit analysis."
   ]
  },
  {
   "cell_type": "markdown",
   "metadata": {},
   "source": [
    "### Merging the dataframes"
   ]
  },
  {
   "cell_type": "markdown",
   "metadata": {},
   "source": [
    "We'd like to merge our dataframes on the date column (to align observations by date). Note that the weather dataframe has two observations per date - one for each station. We don't need both stations, as this will duplicate the number of observations in our training set, so let's drop one station."
   ]
  },
  {
   "cell_type": "code",
   "execution_count": 144,
   "metadata": {},
   "outputs": [],
   "source": [
    "weather.drop(weather[weather.station == 2].index, inplace=True)"
   ]
  },
  {
   "cell_type": "markdown",
   "metadata": {},
   "source": [
    "Whereas the train dataframe has multiple observations per date - given the different traps."
   ]
  },
  {
   "cell_type": "code",
   "execution_count": 145,
   "metadata": {},
   "outputs": [
    {
     "data": {
      "text/plain": [
       "date    25\n",
       "dtype: int64"
      ]
     },
     "execution_count": 145,
     "metadata": {},
     "output_type": "execute_result"
    }
   ],
   "source": [
    "train[train['date'] == '2007-05-29'][['date']].count()"
   ]
  },
  {
   "cell_type": "markdown",
   "metadata": {},
   "source": [
    "Let's now merge the dateframes together on the date column. This will cause some dates from the weather dataset to be dropped, as not all dates present in the weather dataframe are present in the train dataset. The vice versa is also true, but to a much lesser degree."
   ]
  },
  {
   "cell_type": "markdown",
   "metadata": {},
   "source": [
    "#### Merge!"
   ]
  },
  {
   "cell_type": "code",
   "execution_count": 146,
   "metadata": {},
   "outputs": [],
   "source": [
    "train_weather = pd.merge(train, weather, on='date')"
   ]
  },
  {
   "cell_type": "code",
   "execution_count": 147,
   "metadata": {},
   "outputs": [
    {
     "name": "stdout",
     "output_type": "stream",
     "text": [
      " Train shape: (10506, 15) \n",
      " Merged shape: (10413, 51)\n"
     ]
    }
   ],
   "source": [
    "print(\" Train shape:\", train.shape, '\\n',\n",
    "      \"Merged shape:\", train_weather.shape)"
   ]
  },
  {
   "cell_type": "code",
   "execution_count": 148,
   "metadata": {},
   "outputs": [
    {
     "data": {
      "text/plain": [
       "Index(['date', 'address', 'species', 'block', 'street', 'trap',\n",
       "       'addressnumberandstreet', 'latitude', 'longitude', 'addressaccuracy',\n",
       "       'nummosquitos', 'wnvpresent', 'year', 'month', 'day'],\n",
       "      dtype='object')"
      ]
     },
     "execution_count": 148,
     "metadata": {},
     "output_type": "execute_result"
    }
   ],
   "source": [
    "train.columns"
   ]
  },
  {
   "cell_type": "code",
   "execution_count": 149,
   "metadata": {},
   "outputs": [
    {
     "data": {
      "text/plain": [
       "Index(['date', 'station', 'tmax', 'tmin', 'tavg', 'dewpoint', 'wetbulb',\n",
       "       'heat', 'cool', 'sunrise', 'sunset', 'codesum', 'snowfall',\n",
       "       'preciptotal', 'stnpressure', 'sealevel', 'resultspeed', 'resultdir',\n",
       "       'avgspeed', 'fg', 'fg+', 'vcts', 'sn', 'ra', 'ts', 'fu', 'dz', 'gr',\n",
       "       'tsra', 'sq', 'mifg', 'bcfg', 'br', 'vcfg', 'hz', 'tavg_7', 'tavg_30'],\n",
       "      dtype='object')"
      ]
     },
     "execution_count": 149,
     "metadata": {},
     "output_type": "execute_result"
    }
   ],
   "source": [
    "weather.columns"
   ]
  },
  {
   "cell_type": "markdown",
   "metadata": {},
   "source": [
    "### Lagged Data"
   ]
  },
  {
   "cell_type": "markdown",
   "metadata": {},
   "source": [
    "Let's see if any of our features have a high correlation with the presence of west nile virus when a lag is applied:"
   ]
  },
  {
   "cell_type": "markdown",
   "metadata": {},
   "source": [
    "#### Temperature"
   ]
  },
  {
   "cell_type": "code",
   "execution_count": 150,
   "metadata": {},
   "outputs": [],
   "source": [
    "wnv_by_date = train_weather.groupby(['date'])[['wnvpresent']].mean().reset_index()"
   ]
  },
  {
   "cell_type": "code",
   "execution_count": 151,
   "metadata": {},
   "outputs": [],
   "source": [
    "wnv_by_date.set_index('date', inplace=True)"
   ]
  },
  {
   "cell_type": "code",
   "execution_count": 152,
   "metadata": {},
   "outputs": [],
   "source": [
    "wnv_by_date = wnv_by_date.join(\n",
    "    train_weather.groupby('date').mean()[['tavg', 'tavg_7', 'tavg_30']]\n",
    ")"
   ]
  },
  {
   "cell_type": "code",
   "execution_count": 153,
   "metadata": {
    "scrolled": true
   },
   "outputs": [
    {
     "data": {
      "text/plain": [
       "<seaborn.axisgrid.PairGrid at 0x1c16a61a90>"
      ]
     },
     "execution_count": 153,
     "metadata": {},
     "output_type": "execute_result"
    },
    {
     "data": {
      "image/png": "[encoded data removed]",
      "text/plain": [
       "<Figure size 540x180 with 3 Axes>"
      ]
     },
     "metadata": {},
     "output_type": "display_data"
    }
   ],
   "source": [
    "sns.pairplot(data = wnv_by_date,\n",
    "                  y_vars=['wnvpresent'],\n",
    "                  x_vars=['tavg', 'tavg_7', 'tavg_30'])"
   ]
  },
  {
   "cell_type": "markdown",
   "metadata": {},
   "source": [
    "There seems to be a slight positive relationship. Let's take a look at the Pearson correlation."
   ]
  },
  {
   "cell_type": "code",
   "execution_count": 154,
   "metadata": {},
   "outputs": [
    {
     "name": "stdout",
     "output_type": "stream",
     "text": [
      "Daily Temp and # WNV Corr: (0.26910908089790814, 0.00872175780067811)\n",
      "7-Day MA Temp and # WNV Corr: (0.2558903960226755, 0.012797721464047049)\n",
      "30-Day MA Temp and # WNV Corr: (0.37579142290563466, 0.00018961693115660536)\n"
     ]
    }
   ],
   "source": [
    "print(\"Daily Temp and # WNV Corr:\", pearsonr(wnv_by_date['wnvpresent'], mosqs_by_date['tavg']))\n",
    "print(\"7-Day MA Temp and # WNV Corr:\", pearsonr(wnv_by_date['wnvpresent'], mosqs_by_date['tavg_7']))\n",
    "print(\"30-Day MA Temp and # WNV Corr:\", pearsonr(wnv_by_date['wnvpresent'], mosqs_by_date['tavg_30']))"
   ]
  },
  {
   "cell_type": "markdown",
   "metadata": {},
   "source": [
    "There appears to be a moderate positive relationship between temperature for the day and the presence of west nile. There is a stronger relationship with the 30-day moving average temperate and the presence of west nile than with the daily average temperature."
   ]
  },
  {
   "cell_type": "markdown",
   "metadata": {},
   "source": [
    "### Precipitation"
   ]
  },
  {
   "cell_type": "code",
   "execution_count": 155,
   "metadata": {},
   "outputs": [],
   "source": [
    "wnv_by_date = wnv_by_date.join(train_weather.groupby('date').mean()[['preciptotal']])\n",
    "\n",
    "wnv_by_date['preciptotal_shift6'] = train_weather.groupby('date').mean()[['preciptotal']].shift(6)\n",
    "wnv_by_date['preciptotal_shift6'].fillna(wnv_by_date['preciptotal'], inplace=True)\n",
    "\n",
    "wnv_by_date['preciptotal_shift30'] = train_weather.groupby('date').mean()[['preciptotal']].shift(30)\n",
    "wnv_by_date['preciptotal_shift30'].fillna(wnv_by_date['preciptotal'], inplace=True)"
   ]
  },
  {
   "cell_type": "code",
   "execution_count": 156,
   "metadata": {},
   "outputs": [
    {
     "data": {
      "text/html": [
       "<div>\n",
       "<style scoped>\n",
       "    .dataframe tbody tr th:only-of-type {\n",
       "        vertical-align: middle;\n",
       "    }\n",
       "\n",
       "    .dataframe tbody tr th {\n",
       "        vertical-align: top;\n",
       "    }\n",
       "\n",
       "    .dataframe thead th {\n",
       "        text-align: right;\n",
       "    }\n",
       "</style>\n",
       "<table border=\"1\" class=\"dataframe\">\n",
       "  <thead>\n",
       "    <tr style=\"text-align: right;\">\n",
       "      <th></th>\n",
       "      <th>wnvpresent</th>\n",
       "      <th>tavg</th>\n",
       "      <th>tavg_7</th>\n",
       "      <th>tavg_30</th>\n",
       "      <th>preciptotal</th>\n",
       "      <th>preciptotal_shift6</th>\n",
       "      <th>preciptotal_shift30</th>\n",
       "    </tr>\n",
       "    <tr>\n",
       "      <th>date</th>\n",
       "      <th></th>\n",
       "      <th></th>\n",
       "      <th></th>\n",
       "      <th></th>\n",
       "      <th></th>\n",
       "      <th></th>\n",
       "      <th></th>\n",
       "    </tr>\n",
       "  </thead>\n",
       "  <tbody>\n",
       "    <tr>\n",
       "      <th>2007-05-29</th>\n",
       "      <td>0.000000</td>\n",
       "      <td>74.0</td>\n",
       "      <td>64.857143</td>\n",
       "      <td>64.800000</td>\n",
       "      <td>0.000</td>\n",
       "      <td>0.00</td>\n",
       "      <td>0.000</td>\n",
       "    </tr>\n",
       "    <tr>\n",
       "      <th>2007-06-05</th>\n",
       "      <td>0.000000</td>\n",
       "      <td>56.0</td>\n",
       "      <td>67.714286</td>\n",
       "      <td>69.933333</td>\n",
       "      <td>0.420</td>\n",
       "      <td>0.42</td>\n",
       "      <td>0.420</td>\n",
       "    </tr>\n",
       "    <tr>\n",
       "      <th>2007-06-26</th>\n",
       "      <td>0.000000</td>\n",
       "      <td>81.0</td>\n",
       "      <td>72.142857</td>\n",
       "      <td>74.633333</td>\n",
       "      <td>0.160</td>\n",
       "      <td>0.16</td>\n",
       "      <td>0.160</td>\n",
       "    </tr>\n",
       "    <tr>\n",
       "      <th>2007-06-29</th>\n",
       "      <td>0.000000</td>\n",
       "      <td>63.0</td>\n",
       "      <td>75.714286</td>\n",
       "      <td>74.766667</td>\n",
       "      <td>0.000</td>\n",
       "      <td>0.00</td>\n",
       "      <td>0.000</td>\n",
       "    </tr>\n",
       "    <tr>\n",
       "      <th>2007-07-02</th>\n",
       "      <td>0.000000</td>\n",
       "      <td>66.0</td>\n",
       "      <td>66.285714</td>\n",
       "      <td>72.900000</td>\n",
       "      <td>0.000</td>\n",
       "      <td>0.00</td>\n",
       "      <td>0.000</td>\n",
       "    </tr>\n",
       "    <tr>\n",
       "      <th>2007-07-11</th>\n",
       "      <td>0.000000</td>\n",
       "      <td>70.0</td>\n",
       "      <td>80.428571</td>\n",
       "      <td>75.333333</td>\n",
       "      <td>0.000</td>\n",
       "      <td>0.00</td>\n",
       "      <td>0.000</td>\n",
       "    </tr>\n",
       "    <tr>\n",
       "      <th>2007-07-18</th>\n",
       "      <td>0.007752</td>\n",
       "      <td>77.0</td>\n",
       "      <td>74.285714</td>\n",
       "      <td>75.600000</td>\n",
       "      <td>1.550</td>\n",
       "      <td>0.00</td>\n",
       "      <td>1.550</td>\n",
       "    </tr>\n",
       "    <tr>\n",
       "      <th>2007-07-19</th>\n",
       "      <td>0.000000</td>\n",
       "      <td>73.0</td>\n",
       "      <td>75.285714</td>\n",
       "      <td>75.600000</td>\n",
       "      <td>0.160</td>\n",
       "      <td>0.42</td>\n",
       "      <td>0.160</td>\n",
       "    </tr>\n",
       "    <tr>\n",
       "      <th>2007-07-25</th>\n",
       "      <td>0.054348</td>\n",
       "      <td>78.0</td>\n",
       "      <td>73.142857</td>\n",
       "      <td>72.200000</td>\n",
       "      <td>0.001</td>\n",
       "      <td>0.16</td>\n",
       "      <td>0.001</td>\n",
       "    </tr>\n",
       "    <tr>\n",
       "      <th>2007-07-27</th>\n",
       "      <td>0.000000</td>\n",
       "      <td>77.0</td>\n",
       "      <td>75.571429</td>\n",
       "      <td>72.600000</td>\n",
       "      <td>0.170</td>\n",
       "      <td>0.00</td>\n",
       "      <td>0.170</td>\n",
       "    </tr>\n",
       "  </tbody>\n",
       "</table>\n",
       "</div>"
      ],
      "text/plain": [
       "            wnvpresent  tavg     tavg_7    tavg_30  preciptotal  \\\n",
       "date                                                              \n",
       "2007-05-29    0.000000  74.0  64.857143  64.800000        0.000   \n",
       "2007-06-05    0.000000  56.0  67.714286  69.933333        0.420   \n",
       "2007-06-26    0.000000  81.0  72.142857  74.633333        0.160   \n",
       "2007-06-29    0.000000  63.0  75.714286  74.766667        0.000   \n",
       "2007-07-02    0.000000  66.0  66.285714  72.900000        0.000   \n",
       "2007-07-11    0.000000  70.0  80.428571  75.333333        0.000   \n",
       "2007-07-18    0.007752  77.0  74.285714  75.600000        1.550   \n",
       "2007-07-19    0.000000  73.0  75.285714  75.600000        0.160   \n",
       "2007-07-25    0.054348  78.0  73.142857  72.200000        0.001   \n",
       "2007-07-27    0.000000  77.0  75.571429  72.600000        0.170   \n",
       "\n",
       "            preciptotal_shift6  preciptotal_shift30  \n",
       "date                                                 \n",
       "2007-05-29                0.00                0.000  \n",
       "2007-06-05                0.42                0.420  \n",
       "2007-06-26                0.16                0.160  \n",
       "2007-06-29                0.00                0.000  \n",
       "2007-07-02                0.00                0.000  \n",
       "2007-07-11                0.00                0.000  \n",
       "2007-07-18                0.00                1.550  \n",
       "2007-07-19                0.42                0.160  \n",
       "2007-07-25                0.16                0.001  \n",
       "2007-07-27                0.00                0.170  "
      ]
     },
     "execution_count": 156,
     "metadata": {},
     "output_type": "execute_result"
    }
   ],
   "source": [
    "wnv_by_date.head(10)"
   ]
  },
  {
   "cell_type": "code",
   "execution_count": 157,
   "metadata": {},
   "outputs": [
    {
     "data": {
      "text/plain": [
       "<seaborn.axisgrid.PairGrid at 0x1025c20f0>"
      ]
     },
     "execution_count": 157,
     "metadata": {},
     "output_type": "execute_result"
    },
    {
     "data": {
      "image/png": "[encoded data removed]",
      "text/plain": [
       "<Figure size 540x180 with 3 Axes>"
      ]
     },
     "metadata": {},
     "output_type": "display_data"
    }
   ],
   "source": [
    "sns.pairplot(data = wnv_by_date,\n",
    "                  y_vars=['wnvpresent'],\n",
    "                  x_vars=['preciptotal', 'preciptotal_shift6', 'preciptotal_shift30'])"
   ]
  },
  {
   "cell_type": "markdown",
   "metadata": {},
   "source": [
    "There seems to be a slight positive relationship. Let's take a look at the Pearson correlation."
   ]
  },
  {
   "cell_type": "code",
   "execution_count": 158,
   "metadata": {},
   "outputs": [
    {
     "name": "stdout",
     "output_type": "stream",
     "text": [
      "Daily Temp and # Mosq Corr: (-0.08941570081080007, 0.3914246921567155)\n",
      "Daily Temp and # Mosq Corr: (-0.0013993105486766674, 0.9893203946835953)\n",
      "Daily Temp and # Mosq Corr: (0.009299881164297218, 0.929112753112525)\n"
     ]
    }
   ],
   "source": [
    "print(\"Daily Temp and # Mosq Corr:\", pearsonr(wnv_by_date['wnvpresent'], wnv_by_date['preciptotal']))\n",
    "print(\"Daily Temp and # Mosq Corr:\", pearsonr(wnv_by_date['wnvpresent'], wnv_by_date['preciptotal_shift6']))\n",
    "print(\"Daily Temp and # Mosq Corr:\", pearsonr(wnv_by_date['wnvpresent'], wnv_by_date['preciptotal_shift30']))"
   ]
  },
  {
   "cell_type": "markdown",
   "metadata": {},
   "source": [
    "There appears to be no relationship between precipitation totals or lagged precipitation totals and the number of mosquitos."
   ]
  },
  {
   "cell_type": "markdown",
   "metadata": {},
   "source": [
    "## Exporting merged data"
   ]
  },
  {
   "cell_type": "code",
   "execution_count": 159,
   "metadata": {},
   "outputs": [],
   "source": [
    "# train_weather.to_csv('../data/train_weather_merged.csv', index=False)"
   ]
  }
 ],
 "metadata": {
  "kernelspec": {
   "display_name": "Python 3",
   "language": "python",
   "name": "python3"
  },
  "language_info": {
   "codemirror_mode": {
    "name": "ipython",
    "version": 3
   },
   "file_extension": ".py",
   "mimetype": "text/x-python",
   "name": "python",
   "nbconvert_exporter": "python",
   "pygments_lexer": "ipython3",
   "version": "3.6.5"
  }
 },
 "nbformat": 4,
 "nbformat_minor": 2
}
